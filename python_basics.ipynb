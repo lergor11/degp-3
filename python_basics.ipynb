{
 "cells": [
  {
   "cell_type": "markdown",
   "metadata": {},
   "source": [
    "## Домашнее задание к лекции \"Основы Python\""
   ]
  },
  {
   "cell_type": "markdown",
   "metadata": {},
   "source": [
    "### Задание 1\n",
    "Даны 2 переменных, в которых хранятся строки произвольной длины: phrase_1 и phrase_2.\n",
    "Напишите код, который проверяет какая из этих строк длиннее."
   ]
  },
  {
   "cell_type": "code",
   "execution_count": 17,
   "metadata": {},
   "outputs": [
    {
     "name": "stdout",
     "output_type": "stream",
     "text": [
      "Фраза 1 длиннее фразы 2\n"
     ]
    }
   ],
   "source": [
    "phrase_1 = 'Насколько проще было бы писать программы, если бы не заказчики'\n",
    "phrase_2 = '640Кб должно хватить для любых задач. Билл Гейтс (по легенде)'\n",
    "\n",
    "if len(phrase_1) > len(phrase_2):\n",
    "    print(\"Фраза 1 длиннее фразы 2\")\n",
    "elif len(phrase_1) < len(phrase_2):\n",
    "    print(\"Фраза 2 длиннее фразы 1\")\n",
    "else:\n",
    "    print(\"Фразы равной длины\")"
   ]
  },
  {
   "cell_type": "markdown",
   "metadata": {},
   "source": [
    "### Задание 2\n",
    "Дана переменная, в которой хранится четырехзначное число (год). Необходимо написать программу, которая выведет, является ли данный год високосным или обычным."
   ]
  },
  {
   "cell_type": "code",
   "execution_count": null,
   "metadata": {},
   "outputs": [],
   "source": [
    "year = int(input())\n",
    "if ( year % 4 ) != 0 or (year % 100 == 0 and year % 400 != 0):\n",
    "    print(\"Обычный год\")\n",
    "else:\n",
    "    print(\"Высокосный год\")"
   ]
  },
  {
   "cell_type": "markdown",
   "metadata": {},
   "source": [
    "### Задание 3\n",
    "\n",
    "Необходимо написать программу, которая будет запрашивать у пользователя месяц и дату рождения и выводить соответствующий знак зодиака."
   ]
  },
  {
   "cell_type": "code",
   "execution_count": 31,
   "metadata": {},
   "outputs": [
    {
     "name": "stdout",
     "output_type": "stream",
     "text": [
      "Введите день: 30\n",
      "Введите месяц: Август\n",
      "Ваш знак зодиака: Дева\n"
     ]
    }
   ],
   "source": [
    "birthday_day = int(input(\"Введите день: \"))\n",
    "birthday_month = str.lower(input(\"Введите месяц: \"))\n",
    "if birthday_month == \"январь\":\n",
    "    if birthday_day >= 21:\n",
    "        print(\"Ваш знак зодиака: Водолей\")\n",
    "    else:\n",
    "        print(\"Ваш знак зодиака: Козерог\")\n",
    "elif birthday_month == \"февраль\":\n",
    "    if birthday_day >= 20:\n",
    "        print(\"Ваш знак зодиака: Рыбы\")\n",
    "    else:\n",
    "        print(\"Ваш знак зодиака: Водолей\")\n",
    "elif birthday_month == \"март\":\n",
    "    if birthday_day >= 21:\n",
    "        print(\"Ваш знак зодиака: Овен\")\n",
    "    else:\n",
    "        print(\"Ваш знак зодиака: Рыбы\")\n",
    "elif birthday_month == \"апрель\":\n",
    "    if birthday_day >= 21:\n",
    "        print(\"Ваш знак зодиака: Телец\")\n",
    "    else:\n",
    "        print(\"Ваш знак зодиака: Овен\")\n",
    "elif birthday_month == \"май\":\n",
    "    if birthday_day >= 22:\n",
    "        print(\"Ваш знак зодиака: Близнецы\")\n",
    "    else:\n",
    "        print(\"Ваш знак зодиака: Телец\")\n",
    "elif birthday_month == \"июнь\":\n",
    "    if birthday_day >= 22:\n",
    "        print(\"Ваш знак зодиака: Рак\")\n",
    "    else:\n",
    "        print(\"Ваш знак зодиака: Близнецы\")\n",
    "elif birthday_month == \"июль\":\n",
    "    if birthday_day >= 23:\n",
    "        print(\"Ваш знак зодиака: Лев\")\n",
    "    else:\n",
    "        print(\"Ваш знак зодиака: Рак\")\n",
    "elif birthday_month == \"август\":\n",
    "    if birthday_day >= 24:\n",
    "        print(\"Ваш знак зодиака: Дева\")\n",
    "    else:\n",
    "        print(\"Ваш знак зодиака: Лев\")\n",
    "elif birthday_month == \"сентябрь\":\n",
    "    if birthday_day >= 24:\n",
    "        print(\"Ваш знак зодиака: Весы\")\n",
    "    else:\n",
    "        print(\"Ваш знак зодиака: Дева\")\n",
    "elif birthday_month == \"октябрь\":\n",
    "    if birthday_day >= 24:\n",
    "        print(\"Ваш знак зодиака: Скорпион\")\n",
    "    else:\n",
    "        print(\"Ваш знак зодиака: Весы\")\n",
    "elif birthday_month == \"ноябрь\":\n",
    "    if birthday_day >= 23:\n",
    "        print(\"Ваш знак зодиака: Стрелец\")\n",
    "    else:\n",
    "        print(\"Ваш знак зодиака: Скорпион\")\n",
    "elif birthday_month == \"декабрь\":\n",
    "    if birthday_day >= 23:\n",
    "        print(\"Ваш знак зодиака: Козерог\")\n",
    "    else:\n",
    "        print(\"Ваш знак зодиака: Стрелец\")\n",
    "else:\n",
    "    print(\"Неправильно введен месяц\")"
   ]
  },
  {
   "cell_type": "markdown",
   "metadata": {},
   "source": [
    "### Задание 4\n",
    "\n",
    "Вам нужно написать программу для подбора упаковок по размерам товара. Размеры (ширина, длина, высота) хранятся в переменных (в сантиметрах):\n",
    "\n",
    "Используйте следующие правила:\n",
    "* если каждое из трех измерений менее 15 сантиметров, то выведите на экран \"Коробка №1\";\n",
    "* если хотя бы одно из измерений больше 15 сантиметров, но менее 50 сантиметров, то выводите \"Коробка №2\";\n",
    "* если длина товара больше 2 метров, то выводите \"Упаковка для лыж\";\n",
    "* во всех остальных случаях выводите \"Стандартная коробка №3\".\n"
   ]
  },
  {
   "cell_type": "code",
   "execution_count": 37,
   "metadata": {},
   "outputs": [
    {
     "name": "stdout",
     "output_type": "stream",
     "text": [
      "width: 14\n",
      "length: 14\n",
      "height: 14\n",
      "Коробка №1\n"
     ]
    }
   ],
   "source": [
    "width = int(input(\"width: \"))\n",
    "length = int(input(\"length: \"))\n",
    "height = int(input(\"height: \"))\n",
    "if (width < 15) and (length < 15) and (height < 15):\n",
    "    print(\"Коробка №1\")\n",
    "elif (width < 50) and (length < 50) and (height < 50):\n",
    "    print(\"Коробка №2\")\n",
    "elif (length > 200):\n",
    "    print(\"Упаковка для лыж\")\n",
    "else:\n",
    "    print(\"Стандартная коробка №3\")"
   ]
  },
  {
   "cell_type": "markdown",
   "metadata": {},
   "source": [
    "### Задание 5 (необязательное)\n",
    "Дана переменная, в которой хранится шестизначное число (номер проездного билета). Напишите программу, которая будет определять, является ли данный билет “счастливым”. Билет считается счастливым, если сумма первых трех цифр совпадает с суммой последних трех цифр номера."
   ]
  },
  {
   "cell_type": "code",
   "execution_count": 24,
   "metadata": {},
   "outputs": [
    {
     "name": "stdout",
     "output_type": "stream",
     "text": [
      "Введите номер билета: 123456\n",
      "Неасчастливый билет\n"
     ]
    }
   ],
   "source": [
    "number = int(input(\"Введите номер билета: \"))\n",
    "if ((number%10)+((number//10)%10)+((number//100)%10)) == (((number//1000)%10)+((number//10000)%10)+(number//100000)):\n",
    "    print(\"Счастливый билет\")\n",
    "else:\n",
    "    print(\"Неасчастливый билет\")"
   ]
  },
  {
   "cell_type": "markdown",
   "metadata": {},
   "source": [
    "### Задание 6 (необязательное)\n",
    "\n",
    "Напишите программу, которая сможет вычислять площади трех фигур (круг, треугольник и прямоугольник). Тип фигуры запрашиваем через пользовательский ввод, после чего делаем запрос характеристик фигуры:\n",
    "\n",
    "    если пользователь выбрал круг, запрашиваем его радиус,\n",
    "    если треугольник – длины трех его сторон;\n",
    "    если прямоугольник – длины двух его сторон.\n"
   ]
  },
  {
   "cell_type": "code",
   "execution_count": 39,
   "metadata": {},
   "outputs": [
    {
     "name": "stdout",
     "output_type": "stream",
     "text": [
      "Введите фигуру: прямоугольник\n",
      "Введите длину стороны A: 2\n",
      "Введите длину стороны B: 3\n",
      "Площадь прямоугольника: 6.0\n"
     ]
    }
   ],
   "source": [
    "import math\n",
    "shape = str.lower(input(\"Введите фигуру: \"))\n",
    "if shape == \"круг\":\n",
    "    radius = float(input(\"Введите радиус: \"))\n",
    "    area = math.pi * radius ** 2\n",
    "    print(\"Площадь круга:\", area)\n",
    "elif shape == \"треугольник\":\n",
    "    side_length_a = float(input(\"Введите длину стороны A: \"))\n",
    "    side_length_b = float(input(\"Введите длину стороны B: \"))\n",
    "    side_length_c = float(input(\"Введите длину стороны C: \"))\n",
    "    p = (side_length_a + side_length_b + side_length_c)/2\n",
    "    area = (p* (p - side_length_a) * (p-side_length_b) * (p-side_length_c))**(1/2)\n",
    "    print(\"Площадь треугольника:\", area)\n",
    "elif shape == \"прямоугольник\":\n",
    "    side_length_a = float(input(\"Введите длину стороны A: \"))\n",
    "    side_length_b = float(input(\"Введите длину стороны B: \"))\n",
    "    area = side_length_a * side_length_b\n",
    "    print(\"Площадь прямоугольника:\", area)\n",
    "else:\n",
    "    print(\"неправильная фигура\")"
   ]
  },
  {
   "cell_type": "code",
   "execution_count": null,
   "metadata": {},
   "outputs": [],
   "source": []
  }
 ],
 "metadata": {
  "kernelspec": {
   "display_name": "Python 3",
   "language": "python",
   "name": "python3"
  },
  "language_info": {
   "codemirror_mode": {
    "name": "ipython",
    "version": 3
   },
   "file_extension": ".py",
   "mimetype": "text/x-python",
   "name": "python",
   "nbconvert_exporter": "python",
   "pygments_lexer": "ipython3",
   "version": "3.8.5"
  }
 },
 "nbformat": 4,
 "nbformat_minor": 4
}