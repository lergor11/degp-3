{
 "cells": [
  {
   "cell_type": "markdown",
   "metadata": {},
   "source": [
    "### Задание 1"
   ]
  },
  {
   "cell_type": "code",
   "execution_count": null,
   "metadata": {},
   "outputs": [],
   "source": [
    "ids = {'user1': [213, 213, 213, 15, 213],\n",
    "       'user2': [54, 54, 119, 119, 119],\n",
    "       'user3': [213, 98, 98, 35]}\n",
    "\n",
    "## It's easy to try the List Computing construct.\n",
    "set_of_geoids = {geoids for users in ids.values() for geoids in users}\n",
    "print(\"Результат: \", set_of_geoids)"
   ]
  },
  {
   "cell_type": "markdown",
   "metadata": {},
   "source": [
    "### Задание 2"
   ]
  },
  {
   "cell_type": "code",
   "execution_count": null,
   "metadata": {},
   "outputs": [],
   "source": [
    "import numpy as np\n",
    "queries = ['смотреть сериалы онлайн',\n",
    "           'новости спорта',\n",
    "           'афиша кино',\n",
    "           'курс доллара',\n",
    "           'сериалы этим летом',\n",
    "           'курс по питону',\n",
    "           'сериалы про спорт',\n",
    "]\n",
    "\n",
    "count_word_in_queries = {}\n",
    "\n",
    "for querie in queries:\n",
    "    count_words = len(querie.split(\" \"))\n",
    "    if count_words in count_word_in_queries:\n",
    "        count_word_in_queries[count_words] += 1\n",
    "    else:\n",
    "        count_word_in_queries[count_words] = 0\n",
    "print(\"Результат:\")\n",
    "for count_words, count_queries in count_word_in_queries.items():\n",
    "    print(\"Поисковых запросов, содержащих\", count_words, \"слов(а):\", np.around(count_queries/len(queries) * 100,decimals=2), \"%\") "
   ]
  },
  {
   "cell_type": "markdown",
   "metadata": {},
   "source": [
    "### Задание 3"
   ]
  },
  {
   "cell_type": "code",
   "execution_count": null,
   "metadata": {},
   "outputs": [],
   "source": [
    "import numpy as np\n",
    "\n",
    "results = {\n",
    "'vk': {'revenue': 103, 'cost': 98},\n",
    "'yandex': {'revenue': 179, 'cost': 153},\n",
    "'faceboo': {'revenue': 103, 'cost': 110},\n",
    "'adwords': {'revenue': 35, 'cost': 34},\n",
    "'twitter': {'revenue': 11, 'cost': 24},\n",
    "}\n",
    "\n",
    "print(\"Результат:\")\n",
    "for platform, statistics in results.items():   \n",
    "    statistics['ROI']=np.around((statistics['revenue'] / statistics['cost'] - 1) * 100,decimals=2)\n",
    "    print(platform, \":\", statistics)\n",
    "\n",
    "#print(results)"
   ]
  },
  {
   "cell_type": "markdown",
   "metadata": {},
   "source": [
    "### Задание 4"
   ]
  },
  {
   "cell_type": "code",
   "execution_count": null,
   "metadata": {},
   "outputs": [],
   "source": [
    "stats = {'facebook': 55, 'yandex': 115, 'vk': 120, 'google': 99, 'email': 42, 'ok': 98}\n",
    "\n",
    "max_result = 0\n",
    "platform_of_max_result = ''\n",
    "for platform, result in stats.items():\n",
    "    if result > max_result:\n",
    "        max_result = result\n",
    "        platform_of_max_result = platform\n",
    "print(\"Результат: Максимальный объем продаж на рекламном канале:\",platform_of_max_result)"
   ]
  },
  {
   "cell_type": "markdown",
   "metadata": {},
   "source": [
    "### Задание 5 (необязательно)"
   ]
  },
  {
   "cell_type": "code",
   "execution_count": null,
   "metadata": {},
   "outputs": [],
   "source": [
    "my_list = ['a', 'b', 'c', 'd', 'e', 'f']\n",
    "\n",
    "my_dictionary = {my_list.pop(-1): my_list.pop()}\n",
    "\n",
    "\n",
    "while len(my_list) != 0:\n",
    "   my_dictionary = { my_list.pop():my_dictionary} \n",
    "\n",
    "my_dictionary\n",
    "    \n",
    "# А как сделать через oneline?"
   ]
  },
  {
   "cell_type": "markdown",
   "metadata": {},
   "source": [
    "### Задание 6 (необязательно)"
   ]
  },
  {
   "cell_type": "code",
   "execution_count": null,
   "metadata": {},
   "outputs": [],
   "source": [
    "cook_book = {\n",
    "'салат': [\n",
    "{'ingridient_name': 'сыр', 'quantity': 50, 'measure': 'гр'},\n",
    "{'ingridient_name': 'томаты', 'quantity': 2, 'measure': 'шт'},\n",
    "{'ingridient_name': 'огурцы', 'quantity': 20, 'measure': 'гр'},\n",
    "{'ingridient_name': 'маслины', 'quantity': 10, 'measure': 'гр'},\n",
    "{'ingridient_name': 'оливковое масло', 'quantity': 20, 'measure': 'мл'},\n",
    "{'ingridient_name': 'салат', 'quantity': 10, 'measure': 'гр'},\n",
    "{'ingridient_name': 'перец', 'quantity': 20, 'measure': 'гр'}\n",
    "],\n",
    "'пицца': [\n",
    "{'ingridient_name': 'сыр', 'quantity': 20, 'measure': 'гр'},\n",
    "{'ingridient_name': 'колбаса', 'quantity': 30, 'measure': 'гр'},\n",
    "{'ingridient_name': 'бекон', 'quantity': 30, 'measure': 'гр'},\n",
    "{'ingridient_name': 'оливки', 'quantity': 10, 'measure': 'гр'},\n",
    "{'ingridient_name': 'томаты', 'quantity': 20, 'measure': 'гр'},\n",
    "{'ingridient_name': 'тесто', 'quantity': 100, 'measure': 'гр'},\n",
    "],\n",
    "'лимонад': [\n",
    "{'ingridient_name': 'лимон', 'quantity': 1, 'measure': 'шт'},\n",
    "{'ingridient_name': 'вода', 'quantity': 200, 'measure': 'мл'},\n",
    "{'ingridient_name': 'сахар', 'quantity': 10, 'measure': 'гр'},\n",
    "{'ingridient_name': 'лайм', 'quantity': 20, 'measure': 'гр'},\n",
    "]\n",
    "}\n",
    "\n",
    "number_of_servings = int(input(\"Введите количество порций:\"))\n",
    "\n",
    "ingridients = []\n",
    "for position in cook_book.values():\n",
    "    for ingridient in position:\n",
    "                \n",
    "        ingridient_name = ingridient.get(\"ingridient_name\")\n",
    "        measure = ingridient.get(\"measure\")\n",
    "        quantity = ingridient.get(\"quantity\")\n",
    "        for i in range(len(ingridients)):\n",
    "            if ((ingridients[i].get(\"measure\") == measure) & (ingridients[i].get(\"ingridient_name\") == ingridient_name)):\n",
    "                quantity = ingridients[i].get(\"quantity\") + (ingridient.get(\"quantity\") * number_of_servings)\n",
    "                ingridients[i] = {'ingridient_name': ingridient_name, 'quantity': quantity, 'measure': measure}\n",
    "                break\n",
    "        else:\n",
    "            ingridients.append({'ingridient_name': ingridient_name, 'quantity': quantity*number_of_servings, 'measure': measure})\n",
    "\n",
    "print(\"Результат:\")\n",
    "for i in ingridients:\n",
    "    print('{0}: {1} {2}'.format(i.get('ingridient_name'), i.get(\"quantity\"), i.get(\"measure\")))\n"
   ]
  },
  {
   "cell_type": "markdown",
   "metadata": {},
   "source": []
  },
  {
   "cell_type": "code",
   "execution_count": null,
   "metadata": {},
   "outputs": [],
   "source": []
  }
 ],
 "metadata": {
  "kernelspec": {
   "display_name": "Python 3",
   "language": "python",
   "name": "python3"
  },
  "language_info": {
   "codemirror_mode": {
    "name": "ipython",
    "version": 3
   },
   "file_extension": ".py",
   "mimetype": "text/x-python",
   "name": "python",
   "nbconvert_exporter": "python",
   "pygments_lexer": "ipython3",
   "version": "3.8.5"
  }
 },
 "nbformat": 4,
 "nbformat_minor": 4
}