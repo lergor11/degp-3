{
 "cells": [
  {
   "cell_type": "markdown",
   "metadata": {
    "collapsed": true
   },
   "source": [
    "### Задание 1\n",
    "Дана переменная, в которой хранится слово из латинских букв. Напишите код, который выводит на экран:\n",
    "\n",
    "    среднюю букву, если число букв в слове нечетное;\n",
    "    две средних буквы, если число букв четное."
   ]
  },
  {
   "cell_type": "code",
   "execution_count": null,
   "metadata": {},
   "outputs": [],
   "source": [
    "word = input(\"Введите слово:\")\n",
    "if len(word)%2==0:\n",
    "    print(word[int(len(word)/2-1):int(len(word)/2+1)])\n",
    "else:\n",
    "    print(word[int(len(word)/2)])"
   ]
  },
  {
   "cell_type": "markdown",
   "metadata": {},
   "source": [
    "### Задание 2\n",
    "Напишите программу, которая последовательно запрашивает у пользователя числа (по одному за раз) и после первого нуля выводит сумму всех ранее введенных чисел."
   ]
  },
  {
   "cell_type": "code",
   "execution_count": null,
   "metadata": {},
   "outputs": [],
   "source": [
    "sum = 0\n",
    "while 0 < 1:\n",
    "    number = int(input(\"Введите число:\"))\n",
    "    if number != 0:\n",
    "        sum += number\n",
    "    else:\n",
    "      break\n",
    "print(\"Результат:\", sum)"
   ]
  },
  {
   "cell_type": "markdown",
   "metadata": {},
   "source": [
    "### Задание 3\n",
    "Мы делаем MVP dating-сервиса, и у нас есть список парней и девушек.\n",
    "Выдвигаем гипотезу: лучшие рекомендации мы получим, если просто отсортируем имена по алфавиту и познакомим людей с одинаковыми индексами после сортировки! Но мы не будем никого знакомить, если кто-то может остаться без пары:"
   ]
  },
  {
   "cell_type": "code",
   "execution_count": null,
   "metadata": {},
   "outputs": [],
   "source": [
    "boys = [\"Peter\", \"Alex\", \"John\", \"Arthur\", \"Richard\"]\n",
    "girls = [\"Kate\", \"Liza\", \"Kira\", \"Emma\", \"Trisha\"]\n",
    "\n",
    "if len(boys) == len (girls):\n",
    "    print(\"Идеальные пары:\")\n",
    "    for i in range(len(boys)):\n",
    "        print(boys[i], \"и\", girls[i])\n",
    "else:\n",
    "    print(\"Внимание, кто-то может остаться без пары!\")"
   ]
  },
  {
   "cell_type": "markdown",
   "metadata": {},
   "source": [
    "### Задание 4\n",
    "У нас есть список, содержащий информацию о среднедневной температуре в Фаренгейтах за произвольный период по странам (структура данных в примере). Необходимо написать код, который рассчитает среднюю температуру за период в Цельсиях(!) для каждой страны."
   ]
  },
  {
   "cell_type": "code",
   "execution_count": null,
   "metadata": {},
   "outputs": [],
   "source": [
    "import numpy as np\n",
    "countries_temperature = [\n",
    "[\"Thailand\", [75.2, 77, 78.8, 73.4, 68, 75.2, 77]],\n",
    "[\"Germany\", [57.2, 55.4, 59, 59, 53.6]],\n",
    "[\"Russia\", [35.6, 37.4, 39.2, 41, 42.8, 39.2, 35.6]],\n",
    "[\"Poland\", [50, 50, 53.6, 57.2, 55.4, 55.4]]\n",
    "]\n",
    "print(\"Средняя температура в странах:\")\n",
    "for country,temperatures in countries_temperature:\n",
    "    avg_temperature_f = 0.0\n",
    "    for temperature in temperatures:\n",
    "        avg_temperature_f += temperature\n",
    "    avg_temperature_f = avg_temperature_f / len(temperatures)\n",
    "    avg_temperature_c = (avg_temperature_f - 32) / 1.8\n",
    "    print(country, \"-\", np.around(avg_temperature_c,decimals=1), \"C\")"
   ]
  },
  {
   "cell_type": "markdown",
   "metadata": {},
   "source": [
    "### Задание 5 (необязательное)\n",
    "Дан поток логов по количеству просмотренных страниц для каждого пользователя. Вам необходимо написать алгоритм, который считает среднее значение просмотров на пользователя. Т. е. надо посчитать отношение суммы всех просмотров к количеству уникальных пользователей."
   ]
  },
  {
   "cell_type": "code",
   "execution_count": null,
   "metadata": {},
   "outputs": [],
   "source": [
    "stream = [\n",
    "\"2018-01-01,user1,3\",\n",
    "\"2018-01-07,user1,4\",\n",
    "\"2018-03-29,user1,1\",\n",
    "\"2018-04-04,user1,13\",\n",
    "\"2018-01-05,user2,7\",\n",
    "\"2018-06-14,user3,4\",\n",
    "\"2018-07-02,user3,10\",\n",
    "\"2018-03-21,user4,19\",\n",
    "\"2018-03-22,user4,4\",\n",
    "\"2018-04-22,user4,8\",\n",
    "\"2018-05-03,user4,9\",\n",
    "\"2018-05-11,user4,11\",\n",
    "]\n",
    "users = {}\n",
    "sum_all_vews = 0\n",
    "for string_log in stream:\n",
    "    log = string_log.split(\",\")\n",
    "    sum_all_vews += int(log[2])\n",
    "    users[log[1]] =  int(users.get(log[1]) or 0) + int(log[2])\n",
    "avg_vews = sum_all_vews/len(users)\n",
    "print(\"Среднее количество просмотров на уникального пользователя: \", np.around(avg_vews,decimals=2))"
   ]
  },
  {
   "cell_type": "markdown",
   "metadata": {},
   "source": [
    "### Задание 6 (необязательное)\n",
    "Необходимо у пользователя запрашивать набор чисел разделенных пробелом. В результате должны выводиться числа, которые повторяются в вводе более одного раза."
   ]
  },
  {
   "cell_type": "code",
   "execution_count": null,
   "metadata": {},
   "outputs": [],
   "source": [
    "string_numbers = input(\"Введите числа:\")\n",
    "numbers = {}\n",
    "for number in string_numbers.split(\" \"):\n",
    "    numbers[number] =  int(numbers.get(number) or 0) + 1\n",
    "    if numbers[number] == 1:\n",
    "        print(number, end=' ')"
   ]
  },
  {
   "cell_type": "code",
   "execution_count": null,
   "metadata": {},
   "outputs": [],
   "source": []
  }
 ],
 "metadata": {
  "kernelspec": {
   "display_name": "Python 3",
   "language": "python",
   "name": "python3"
  },
  "language_info": {
   "codemirror_mode": {
    "name": "ipython",
    "version": 3
   },
   "file_extension": ".py",
   "mimetype": "text/x-python",
   "name": "python",
   "nbconvert_exporter": "python",
   "pygments_lexer": "ipython3",
   "version": "3.8.5"
  }
 },
 "nbformat": 4,
 "nbformat_minor": 1
}